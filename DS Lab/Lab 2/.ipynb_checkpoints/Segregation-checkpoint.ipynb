{
 "cells": [
  {
   "cell_type": "code",
   "execution_count": 1,
   "metadata": {},
   "outputs": [],
   "source": [
    "f = open('data.txt','r')"
   ]
  },
  {
   "cell_type": "code",
   "execution_count": 2,
   "metadata": {},
   "outputs": [
    {
     "data": {
      "text/plain": [
       "{19: 55,\n",
       " 11: 103,\n",
       " 15: 135,\n",
       " 14: 96,\n",
       " 18: 56,\n",
       " 13: 69,\n",
       " 16: 28,\n",
       " 20: 59,\n",
       " 24: 5,\n",
       " 17: 44,\n",
       " 12: 152,\n",
       " 26: 19,\n",
       " 25: 27,\n",
       " 22: 9,\n",
       " 23: 25,\n",
       " 21: 6,\n",
       " 1: 1}"
      ]
     },
     "execution_count": 2,
     "metadata": {},
     "output_type": "execute_result"
    }
   ],
   "source": [
    "value_counts = dict()\n",
    "for i in range(889):\n",
    "    count = len(f.readline().split(','))\n",
    "    if count not in value_counts:\n",
    "        value_counts[count] = 1\n",
    "    else:\n",
    "        value_counts[count] = value_counts[count] + 1\n",
    "value_counts"
   ]
  },
  {
   "cell_type": "code",
   "execution_count": 3,
   "metadata": {},
   "outputs": [],
   "source": [
    "f = open('data.txt','r')\n",
    "admit = open('admit.txt', 'a')\n",
    "reject = open('reject.txt', 'a')\n",
    "applied = open('applied.txt', 'a')\n",
    "for i in range(889):\n",
    "    s = f.readline()\n",
    "    t = s.split(\",\")\n",
    "    if t[0] == 'APPLIED':\n",
    "        applied.write(s)\n",
    "    elif t[0] == 'ADMIT':\n",
    "        admit.write(s)\n",
    "    else:\n",
    "        reject.write(s)"
   ]
  },
  {
   "cell_type": "code",
   "execution_count": 4,
   "metadata": {},
   "outputs": [],
   "source": [
    "def line_length_file(file, length):\n",
    "    f = open(file,'r')\n",
    "    value_counts = dict()\n",
    "    for i in range(length):\n",
    "        count = len(f.readline().split(','))\n",
    "        if count not in value_counts:\n",
    "            value_counts[count] = 1\n",
    "        else:\n",
    "            value_counts[count] = value_counts[count] + 1\n",
    "    return value_counts"
   ]
  },
  {
   "cell_type": "code",
   "execution_count": 5,
   "metadata": {},
   "outputs": [
    {
     "name": "stdout",
     "output_type": "stream",
     "text": [
      "{19: 40, 14: 127, 17: 3, 25: 17, 18: 1, 22: 2, 20: 2, 37: 1}\n",
      "{11: 231, 16: 52, 17: 6, 14: 3, 22: 20, 12: 4, 20: 1, 21: 1}\n",
      "{13: 113, 18: 83, 24: 26, 19: 6, 21: 1, 37: 1}\n"
     ]
    }
   ],
   "source": [
    "print(line_length_file('admit.txt', 193))\n",
    "print(line_length_file('applied.txt', 318))\n",
    "print(line_length_file('reject.txt', 230))"
   ]
  },
  {
   "cell_type": "code",
   "execution_count": null,
   "metadata": {},
   "outputs": [],
   "source": []
  }
 ],
 "metadata": {
  "kernelspec": {
   "display_name": "Python 3 (ipykernel)",
   "language": "python",
   "name": "python3"
  },
  "language_info": {
   "codemirror_mode": {
    "name": "ipython",
    "version": 3
   },
   "file_extension": ".py",
   "mimetype": "text/x-python",
   "name": "python",
   "nbconvert_exporter": "python",
   "pygments_lexer": "ipython3",
   "version": "3.11.4"
  }
 },
 "nbformat": 4,
 "nbformat_minor": 4
}
