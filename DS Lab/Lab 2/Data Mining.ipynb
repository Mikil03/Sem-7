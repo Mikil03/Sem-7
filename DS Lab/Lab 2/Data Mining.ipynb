{
 "cells": [
  {
   "cell_type": "code",
   "execution_count": 2,
   "id": "db8422b2",
   "metadata": {},
   "outputs": [],
   "source": [
    "from selenium import webdriver\n",
    "from selenium.webdriver.chrome.service import Service\n",
    "from webdriver_manager.chrome import ChromeDriverManager\n",
    "from selenium.webdriver.common.by import By\n",
    "import time\n",
    "from selenium.webdriver.common.action_chains import ActionChains"
   ]
  },
  {
   "cell_type": "code",
   "execution_count": null,
   "id": "0a04a189",
   "metadata": {
    "scrolled": true
   },
   "outputs": [],
   "source": [
    "driver = webdriver.Chrome()\n",
    "driver.get(\"https://www.ymgrad.com/admits_rejects/\")\n",
    "time.sleep(2)"
   ]
  },
  {
   "cell_type": "code",
   "execution_count": null,
   "id": "52c71897",
   "metadata": {},
   "outputs": [],
   "source": [
    "country = driver.find_element(By.XPATH, '/html/body/div[2]/div/div[5]/div[1]/div/div/div[2]/div[1]/div[2]/div/div/div[1]')\n",
    "actions = ActionChains(driver)\n",
    "actions.move_to_element(country).perform()\n",
    "country.click()\n",
    "\n",
    "time.sleep(1)"
   ]
  },
  {
   "cell_type": "code",
   "execution_count": null,
   "id": "6bfe0b38",
   "metadata": {
    "scrolled": true
   },
   "outputs": [],
   "source": [
    "for i in range(1,1000):\n",
    "   target = driver.find_element(By.XPATH, f'/html/body/div[2]/div/div[6]/div[2]/div[7]/div/div/div/div[{i}]')\n",
    "   t = target.text\n",
    "   t = t.split('\\n')\n",
    "   for i in range(len(t)):\n",
    "      t[i] = t[i].strip()\n",
    "      if 'Applied' in t[i]:\n",
    "         t[i] = t[i].replace(',',\"\")\n",
    "   t = \",\".join(t)\n",
    "   with open('data.txt', 'a') as f:\n",
    "      f.write(t)\n",
    "      f.write(\"\\n\")"
   ]
  },
  {
   "cell_type": "code",
   "execution_count": null,
   "id": "ddd63bb3",
   "metadata": {},
   "outputs": [],
   "source": []
  }
 ],
 "metadata": {
  "kernelspec": {
   "display_name": "Python 3 (ipykernel)",
   "language": "python",
   "name": "python3"
  },
  "language_info": {
   "codemirror_mode": {
    "name": "ipython",
    "version": 3
   },
   "file_extension": ".py",
   "mimetype": "text/x-python",
   "name": "python",
   "nbconvert_exporter": "python",
   "pygments_lexer": "ipython3",
   "version": "3.11.4"
  }
 },
 "nbformat": 4,
 "nbformat_minor": 5
}
