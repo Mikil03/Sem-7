{
 "cells": [
  {
   "cell_type": "code",
   "execution_count": 1,
   "metadata": {},
   "outputs": [],
   "source": [
    "import numpy as np"
   ]
  },
  {
   "cell_type": "code",
   "execution_count": 2,
   "metadata": {},
   "outputs": [],
   "source": [
    "# Max-Min Composition given by Zadeh\n",
    "def maxMin(x, y):\n",
    "    z = []\n",
    "    for x1 in x:\n",
    "        for y1 in y.T:\n",
    "            z.append(max(np.minimum(x1, y1)))\n",
    "    return np.array(z).reshape((x.shape[0], y.shape[1]))"
   ]
  },
  {
   "cell_type": "code",
   "execution_count": 3,
   "metadata": {},
   "outputs": [],
   "source": [
    "# Max-Product Composition given by Rosenfeld\n",
    "def maxProduct(x, y):\n",
    "    z = []\n",
    "    for x1 in x:\n",
    "        for y1 in y.T:\n",
    "            z.append(max(np.multiply(x1, y1)))\n",
    "    return np.array(z).reshape((x.shape[0], y.shape[1]))"
   ]
  },
  {
   "cell_type": "code",
   "execution_count": 4,
   "metadata": {},
   "outputs": [
    {
     "name": "stdout",
     "output_type": "stream",
     "text": [
      "R1:\n",
      " [[1.  0.  0.7]\n",
      " [0.3 0.2 0. ]\n",
      " [0.  0.5 1. ]]\n",
      "R2:\n",
      " [[0.6 0.6 0. ]\n",
      " [0.  0.6 0.1]\n",
      " [0.  0.1 0. ]]\n",
      "R3:\n",
      " [[1.  0.  0.7]\n",
      " [0.  1.  0. ]\n",
      " [0.7 0.  1. ]]\n",
      "\n",
      "\n",
      "R1oR2 => Max-Min :\n",
      "[[0.6 0.6 0. ]\n",
      " [0.3 0.3 0.1]\n",
      " [0.  0.5 0.1]]\n",
      "\n",
      "R1oR2 => Max-Product :\n",
      "[[0.6  0.6  0.  ]\n",
      " [0.18 0.18 0.02]\n",
      " [0.   0.3  0.05]]\n",
      "\n",
      "\n",
      "R1oR3 => Max-Min :\n",
      "[[1.  0.  0.7]\n",
      " [0.3 0.2 0.3]\n",
      " [0.7 0.5 1. ]]\n",
      "\n",
      "R1oR3 => Max-Product :\n",
      "[[1.   0.   0.7 ]\n",
      " [0.3  0.2  0.21]\n",
      " [0.7  0.5  1.  ]]\n",
      "\n",
      "\n",
      "R1oR2oR3 => Max-Min :\n",
      "[[0.6 0.6 0.6]\n",
      " [0.3 0.3 0.3]\n",
      " [0.1 0.5 0.1]]\n",
      "\n",
      "R1oR2oR3 => Max-Product :\n",
      "[[0.6   0.6   0.42 ]\n",
      " [0.18  0.18  0.126]\n",
      " [0.035 0.3   0.05 ]]\n",
      "\n"
     ]
    }
   ],
   "source": [
    "# 3 arrays for the example\n",
    "r1 = np.array([[1, 0, .7], [.3, .2, 0], [0, .5, 1]])\n",
    "print(\"R1:\\n\" ,r1)\n",
    "r2 = np.array([[.6, .6, 0], [0, .6, .1], [0, .1, 0]])\n",
    "print(\"R2:\\n\" ,r2)\n",
    "r3 = np.array([[1, 0, .7], [0, 1, 0], [.7, 0, 1]])\n",
    "print(\"R3:\\n\" ,r3)\n",
    "print(\"\\n\")\n",
    "print(\"R1oR2 => Max-Min :\\n\" + str(maxMin(r1, r2)) + \"\\n\")\n",
    "print(\"R1oR2 => Max-Product :\\n\" + str(maxProduct(r1, r2)) + \"\\n\\n\")\n",
    "print(\"R1oR3 => Max-Min :\\n\" + str(maxMin(r1, r3)) + \"\\n\")\n",
    "print(\"R1oR3 => Max-Product :\\n\" + str(maxProduct(r1, r3)) + \"\\n\\n\")\n",
    "print(\"R1oR2oR3 => Max-Min :\\n\" + str(maxMin(r1, maxMin(r2, r3))) + \"\\n\")\n",
    "print(\"R1oR2oR3 => Max-Product :\\n\" + str(maxProduct(r1, maxProduct(r2, r3))) + \"\\n\")"
   ]
  },
  {
   "cell_type": "code",
   "execution_count": null,
   "metadata": {},
   "outputs": [],
   "source": []
  }
 ],
 "metadata": {
  "kernelspec": {
   "display_name": "Python 3 (ipykernel)",
   "language": "python",
   "name": "python3"
  },
  "language_info": {
   "codemirror_mode": {
    "name": "ipython",
    "version": 3
   },
   "file_extension": ".py",
   "mimetype": "text/x-python",
   "name": "python",
   "nbconvert_exporter": "python",
   "pygments_lexer": "ipython3",
   "version": "3.11.4"
  }
 },
 "nbformat": 4,
 "nbformat_minor": 4
}
